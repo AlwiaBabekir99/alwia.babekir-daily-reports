{
 "cells": [
  {
   "cell_type": "markdown",
   "id": "4c0bae5c",
   "metadata": {},
   "source": [
    "### Functions:"
   ]
  },
  {
   "cell_type": "markdown",
   "id": "bcf6cc00",
   "metadata": {},
   "source": [
    "### \n",
    "`input` and `print`"
   ]
  },
  {
   "cell_type": "markdown",
   "id": "acdb1ac8",
   "metadata": {},
   "source": [
    "### User-defined functions"
   ]
  },
  {
   "cell_type": "code",
   "execution_count": 3,
   "id": "770c97ed",
   "metadata": {},
   "outputs": [],
   "source": [
    "def tableMultiplication_8():\n",
    "    n=1\n",
    "    while n<=10:\n",
    "        v=n*8\n",
    "        print(n,\"x\",8,\"=\",v,sep=\" \")\n",
    "        n=n+1"
   ]
  },
  {
   "cell_type": "code",
   "execution_count": 4,
   "id": "b741e855",
   "metadata": {},
   "outputs": [
    {
     "name": "stdout",
     "output_type": "stream",
     "text": [
      "1 x 8 = 8\n",
      "2 x 8 = 16\n",
      "3 x 8 = 24\n",
      "4 x 8 = 32\n",
      "5 x 8 = 40\n",
      "6 x 8 = 48\n",
      "7 x 8 = 56\n",
      "8 x 8 = 64\n",
      "9 x 8 = 72\n",
      "10 x 8 = 80\n"
     ]
    }
   ],
   "source": [
    "tableMultiplication_8()"
   ]
  },
  {
   "cell_type": "code",
   "execution_count": 8,
   "id": "bf968cba",
   "metadata": {},
   "outputs": [],
   "source": [
    "def tableMultiplication(a):\n",
    "    n=1\n",
    "    while n<=10:\n",
    "        v=n*a\n",
    "        print(f\"{n:2} x {a:2} = {v:2}\")\n",
    "        n=n+1"
   ]
  },
  {
   "cell_type": "code",
   "execution_count": 10,
   "id": "1137f5ba",
   "metadata": {},
   "outputs": [
    {
     "name": "stdout",
     "output_type": "stream",
     "text": [
      " 1 x 100 = 100\n",
      " 2 x 100 = 200\n",
      " 3 x 100 = 300\n",
      " 4 x 100 = 400\n",
      " 5 x 100 = 500\n",
      " 6 x 100 = 600\n",
      " 7 x 100 = 700\n",
      " 8 x 100 = 800\n",
      " 9 x 100 = 900\n",
      "10 x 100 = 1000\n"
     ]
    }
   ],
   "source": [
    "tableMultiplication(100)"
   ]
  },
  {
   "cell_type": "code",
   "execution_count": 14,
   "id": "1a41ca4c",
   "metadata": {},
   "outputs": [],
   "source": [
    "def square(n):\n",
    "    return n**2"
   ]
  },
  {
   "cell_type": "code",
   "execution_count": 15,
   "id": "7bff52ff",
   "metadata": {},
   "outputs": [
    {
     "data": {
      "text/plain": [
       "25"
      ]
     },
     "execution_count": 15,
     "metadata": {},
     "output_type": "execute_result"
    }
   ],
   "source": [
    "square_n=square(5)\n",
    "square_n"
   ]
  },
  {
   "cell_type": "markdown",
   "id": "bcf75757",
   "metadata": {},
   "source": []
  },
  {
   "cell_type": "code",
   "execution_count": 16,
   "id": "d539949b",
   "metadata": {},
   "outputs": [],
   "source": [
    "def square(n):\n",
    "     print(n**2)"
   ]
  },
  {
   "cell_type": "code",
   "execution_count": 20,
   "id": "e9b13edb",
   "metadata": {},
   "outputs": [
    {
     "name": "stdout",
     "output_type": "stream",
     "text": [
      "9\n",
      "None\n"
     ]
    }
   ],
   "source": [
    "y=square(3)\n",
    "print(y)"
   ]
  },
  {
   "cell_type": "markdown",
   "id": "2fbc1e61",
   "metadata": {},
   "source": [
    "### Area of rectagle"
   ]
  },
  {
   "cell_type": "code",
   "execution_count": 21,
   "id": "707b55df",
   "metadata": {},
   "outputs": [],
   "source": [
    "def area_rec(length,width):\n",
    "    \"\"\" \n",
    "    This function calculate the area of a rectangle.\n",
    "    Input: 2 parameter (length,width).\n",
    "    Output: Area of the rectangle\"\n",
    "    \"\"\"\n",
    "    area = length*width\n",
    "    print(\"The area of a rectagle = \", area)"
   ]
  },
  {
   "cell_type": "code",
   "execution_count": 22,
   "id": "b66976dc",
   "metadata": {},
   "outputs": [
    {
     "name": "stdout",
     "output_type": "stream",
     "text": [
      "The area of a rectagle =  42\n"
     ]
    }
   ],
   "source": [
    "area_rec(6,7)"
   ]
  }
 ],
 "metadata": {
  "kernelspec": {
   "display_name": "Python 3",
   "language": "python",
   "name": "python3"
  },
  "language_info": {
   "codemirror_mode": {
    "name": "ipython",
    "version": 3
   },
   "file_extension": ".py",
   "mimetype": "text/x-python",
   "name": "python",
   "nbconvert_exporter": "python",
   "pygments_lexer": "ipython3",
   "version": "3.9.2"
  }
 },
 "nbformat": 4,
 "nbformat_minor": 5
}
