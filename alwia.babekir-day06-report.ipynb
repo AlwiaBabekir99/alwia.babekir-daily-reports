{
 "cells": [
  {
   "cell_type": "code",
   "execution_count": 56,
   "id": "9aa4cf7a",
   "metadata": {},
   "outputs": [
    {
     "name": "stdout",
     "output_type": "stream",
     "text": [
      "27\n"
     ]
    }
   ],
   "source": [
    "# if clause\n",
    "a=27\n",
    "print(a)"
   ]
  },
  {
   "cell_type": "markdown",
   "id": "f0dcbc05",
   "metadata": {},
   "source": [
    "```python\n",
    "if ... :\n",
    "    instruction 1 ...\n",
    "```"
   ]
  },
  {
   "cell_type": "code",
   "execution_count": 7,
   "id": "a7825978",
   "metadata": {},
   "outputs": [
    {
     "name": "stdout",
     "output_type": "stream",
     "text": [
      "we do not have it\n"
     ]
    }
   ],
   "source": [
    "if(a>29):\n",
    "    print(\"we have it\")\n",
    "else:\n",
    "        print(\"we do not have it\")"
   ]
  },
  {
   "cell_type": "markdown",
   "id": "cc5a64ee",
   "metadata": {},
   "source": [
    "### `if `... `elif`... `else`"
   ]
  },
  {
   "cell_type": "code",
   "execution_count": 12,
   "id": "284f5ec8",
   "metadata": {},
   "outputs": [
    {
     "name": "stdout",
     "output_type": "stream",
     "text": [
      "x is zero\n"
     ]
    }
   ],
   "source": [
    "x=0\n",
    "if x>0:\n",
    "    print(\"x is positive\")\n",
    "elif x<0:\n",
    "    print(\"x is negative\")\n",
    "else:\n",
    "    print(\"x is zero\")\n",
    "    "
   ]
  },
  {
   "cell_type": "markdown",
   "id": "3de38e0b",
   "metadata": {},
   "source": [
    "### Nested clauses\n",
    "```python\n",
    "if condition :\n",
    "    instruction 1 ...\n",
    "    if .....\n",
    "    else...\n",
    "else\n",
    "```"
   ]
  },
  {
   "cell_type": "code",
   "execution_count": 13,
   "id": "a371ccdc",
   "metadata": {},
   "outputs": [
    {
     "name": "stdout",
     "output_type": "stream",
     "text": [
      "a is greater than b\n",
      "the dif is...\n"
     ]
    }
   ],
   "source": [
    "a=15\n",
    "b=10\n",
    "if a>b:\n",
    "    print(\"a is greater than b\")\n",
    "    if (a-b>5):\n",
    "        print(\"the diff is...\")\n",
    "    else:\n",
    "        print(\"the dif is...\")\n",
    "else:\n",
    "    print(\"b is greater than a\")"
   ]
  },
  {
   "cell_type": "code",
   "execution_count": 30,
   "id": "a7570074",
   "metadata": {},
   "outputs": [
    {
     "name": "stdout",
     "output_type": "stream",
     "text": [
      "real roots: -2.0 and -3.0\n"
     ]
    }
   ],
   "source": [
    "## x is real number\n",
    "import math\n",
    "a,b,c= 1,5,6\n",
    "d= b**2-4*a*c\n",
    "if d==0:\n",
    "    print(\"repeated roots\")\n",
    "else:\n",
    "        print(\"real roots:\",(-b+math.sqrt(d))/2*a,\"and\" ,(-b-math.sqrt(d))/2*a)\n"
   ]
  },
  {
   "cell_type": "code",
   "execution_count": 35,
   "id": "c8f9d956",
   "metadata": {},
   "outputs": [
    {
     "name": "stdout",
     "output_type": "stream",
     "text": [
      "-3\n",
      "comlex roots: (-2.5+0.8660254037844386j) and (-2.5-0.8660254037844386j)\n"
     ]
    }
   ],
   "source": [
    "## x is complex number\n",
    "import cmath\n",
    "a,b,c= 1,5,7\n",
    "d= b**2-4*a*c\n",
    "if d<0:\n",
    "    print(d)\n",
    "    print(\"comlex roots:\",(-b+cmath.sqrt(d))/2*a,\"and\" ,(-b-cmath.sqrt(d))/2*a)\n"
   ]
  },
  {
   "cell_type": "markdown",
   "id": "18506a74",
   "metadata": {},
   "source": [
    "### While loop:"
   ]
  },
  {
   "cell_type": "code",
   "execution_count": 37,
   "id": "54f3ae97",
   "metadata": {},
   "outputs": [
    {
     "name": "stdout",
     "output_type": "stream",
     "text": [
      "The value of i is:  1\n",
      "The value of i is:  2\n",
      "The value of i is:  3\n",
      "The value of i is:  4\n",
      "The value of i is:  5\n",
      "The value of i is:  6\n",
      "The value of i is:  7\n",
      "The value of i is:  8\n",
      "The value of i is:  9\n"
     ]
    }
   ],
   "source": [
    "i =1 \n",
    "while (i < 10):\n",
    "    print(\"The value of i is: \", i)\n",
    "    i=i+1\n",
    "\n",
    "\n"
   ]
  },
  {
   "cell_type": "markdown",
   "id": "fae5e5ed",
   "metadata": {},
   "source": [
    "### For loop:"
   ]
  },
  {
   "cell_type": "code",
   "execution_count": 42,
   "id": "753ea3ae",
   "metadata": {
    "scrolled": true
   },
   "outputs": [
    {
     "name": "stdout",
     "output_type": "stream",
     "text": [
      "The value of i:  0\n",
      "The value of i:  1\n",
      "The value of i:  2\n",
      "The value of i:  3\n",
      "The value of i:  4\n",
      "The value of i:  5\n",
      "The value of i:  6\n",
      "The value of i:  7\n",
      "The value of i:  8\n",
      "The value of i:  9\n"
     ]
    }
   ],
   "source": [
    "for i in range (10):\n",
    "        print(\"The value of i: \",i)"
   ]
  },
  {
   "cell_type": "code",
   "execution_count": 45,
   "id": "b80596c0",
   "metadata": {},
   "outputs": [
    {
     "name": "stdout",
     "output_type": "stream",
     "text": [
      "a\n",
      "b\n",
      "c\n",
      "d\n",
      "e\n",
      "f\n",
      "g\n",
      "h\n",
      "i\n",
      "j\n",
      "k\n",
      "l\n",
      "m\n",
      "n\n",
      "o\n",
      "p\n"
     ]
    }
   ],
   "source": [
    "for char in \"abcdefghijklmnop\":\n",
    "    print(char)"
   ]
  },
  {
   "cell_type": "code",
   "execution_count": 46,
   "id": "6fe5e6f8",
   "metadata": {},
   "outputs": [
    {
     "name": "stdout",
     "output_type": "stream",
     "text": [
      "try again\n",
      "we found it\n",
      "try again\n",
      "try again\n"
     ]
    }
   ],
   "source": [
    "list_fr = [3,5,\"hello\",98]\n",
    "for i in list_fr:\n",
    "    if i==5:\n",
    "        print(\"we found it\")\n",
    "    else:\n",
    "        print(\"try again\")"
   ]
  },
  {
   "cell_type": "code",
   "execution_count": 53,
   "id": "f29d1a9e",
   "metadata": {},
   "outputs": [
    {
     "name": "stdout",
     "output_type": "stream",
     "text": [
      "The letter  H is consonent\n",
      "The letter  e is avowel\n",
      "The letter  l is consonent\n",
      "The letter  l is consonent\n",
      "The letter  o is avowel\n",
      "The letter  , is consonent\n",
      "This is likely a space\n",
      "The letter  W is consonent\n",
      "The letter  o is avowel\n",
      "The letter  r is consonent\n",
      "The letter  l is consonent\n",
      "The letter  d is consonent\n",
      "The letter  . is consonent\n"
     ]
    }
   ],
   "source": [
    "sentance =\"Hello, World.\"\n",
    "for letter in sentance:\n",
    "    if letter in \"AIEOUYaeiouy\":\n",
    "        print(\"The letter \",letter,\"is avowel\")\n",
    "    elif letter ==\" \":\n",
    "        print(\"This is likely a space\")\n",
    "    else:\n",
    "        print(\"The letter \",letter,\"is consonent\")\n",
    "        \n",
    "        "
   ]
  },
  {
   "cell_type": "code",
   "execution_count": null,
   "id": "7ab7fa97",
   "metadata": {},
   "outputs": [],
   "source": []
  }
 ],
 "metadata": {
  "kernelspec": {
   "display_name": "Python 3",
   "language": "python",
   "name": "python3"
  },
  "language_info": {
   "codemirror_mode": {
    "name": "ipython",
    "version": 3
   },
   "file_extension": ".py",
   "mimetype": "text/x-python",
   "name": "python",
   "nbconvert_exporter": "python",
   "pygments_lexer": "ipython3",
   "version": "3.9.2"
  }
 },
 "nbformat": 4,
 "nbformat_minor": 5
}
